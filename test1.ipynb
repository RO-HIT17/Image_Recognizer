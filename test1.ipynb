{
 "cells": [
  {
   "cell_type": "code",
   "execution_count": 54,
   "metadata": {},
   "outputs": [
    {
     "name": "stderr",
     "output_type": "stream",
     "text": [
      "WARNING:absl:Compiled the loaded model, but the compiled metrics have yet to be built. `model.compile_metrics` will be empty until you train or evaluate the model.\n"
     ]
    }
   ],
   "source": [
    "# Cell 12: Load the Trained Model\n",
    "from tensorflow.keras.models import load_model\n",
    "import pickle\n",
    "\n",
    "# Load the trained model\n",
    "model = load_model('model/image_captioning_model1.h5')\n",
    "\n",
    "# Load the tokenizer\n",
    "with open('model/tokenizer1.pkl', 'rb') as f:\n",
    "    tokenizer = pickle.load(f)\n"
   ]
  },
  {
   "cell_type": "code",
   "execution_count": 55,
   "metadata": {},
   "outputs": [],
   "source": [
    "import tensorflow as tf\n",
    "from tensorflow.keras.preprocessing.text import Tokenizer\n",
    "from tensorflow.keras.preprocessing.sequence import pad_sequences\n",
    "from tensorflow.keras.models import Model\n",
    "from tensorflow.keras.layers import Input, Embedding, LSTM, Dense, Dropout\n",
    "import numpy as np\n",
    "import os\n",
    "from PIL import Image"
   ]
  },
  {
   "cell_type": "code",
   "execution_count": 56,
   "metadata": {},
   "outputs": [],
   "source": [
    "\n",
    "# Load InceptionV3 for feature extraction\n",
    "from tensorflow.keras.applications import InceptionV3\n",
    "from tensorflow.keras.models import Model\n",
    "from tensorflow.keras.layers import GlobalAveragePooling2D\n",
    "\n",
    "def load_feature_extractor():\n",
    "    base_model = InceptionV3(weights='imagenet', include_top=False)\n",
    "    feature_extractor = Model(inputs=base_model.input, outputs=GlobalAveragePooling2D()(base_model.output))\n",
    "    return feature_extractor\n",
    "\n",
    "feature_extractor = load_feature_extractor()\n"
   ]
  },
  {
   "cell_type": "code",
   "execution_count": 57,
   "metadata": {},
   "outputs": [
    {
     "name": "stdout",
     "output_type": "stream",
     "text": [
      "Image Shape : (1, 224, 224, 3)\n",
      "Image Shape : (1, 224, 224, 3)\n"
     ]
    }
   ],
   "source": [
    "# Cell 13: Preprocess New Image\n",
    "import numpy as np\n",
    "from PIL import Image\n",
    "def preprocess_image(image_path):\n",
    "    img = Image.open(image_path)\n",
    "    img = img.resize((224, 224))  # Resize image to a fixed size\n",
    "    img = np.array(img) / 255.0   # Normalize the image\n",
    "    img = np.expand_dims(img, axis=0)  # Add batch dimension\n",
    "    return img\n",
    "\n",
    "# Load and preprocess a new image\n",
    "image_path = 'sample_data/36979.jpg'  # Replace with the path to the new image\n",
    "new_image = preprocess_image(image_path)\n",
    "print(\"Image Shape :\",new_image.shape) \n",
    "#if len(new_image.shape) == 4 and new_image.shape[0] == 1:\n",
    "#                    new_image = np.squeeze(new_image, axis=0) \n",
    "print(\"Image Shape :\",new_image.shape)"
   ]
  },
  {
   "cell_type": "code",
   "execution_count": 58,
   "metadata": {},
   "outputs": [
    {
     "name": "stdout",
     "output_type": "stream",
     "text": [
      "Generated Caption: around around around around several several several several\n"
     ]
    }
   ],
   "source": [
    "def generate_caption(model, image, tokenizer, max_caption_length):\n",
    "    # Preprocess the image so it has the shape (1, 224, 224, 3)\n",
    "    #image = preprocess_image(image)  # Ensure the function resizes the image to (224, 224, 3)\n",
    "    #image = np.expand_dims(image, axis=0)  # Add batch dimension\n",
    "\n",
    "    # Start caption generation with the <start> token\n",
    "    caption = ['<start>']\n",
    "    \n",
    "    for _ in range(max_caption_length):\n",
    "        # Convert current caption to sequence\n",
    "        sequence = tokenizer.texts_to_sequences([caption])[0]\n",
    "        sequence = pad_sequences([sequence], maxlen=max_caption_length, padding='post')\n",
    "        \n",
    "        # Predict next word\n",
    "        y_pred = model.predict([image, sequence], verbose=0)  # Pass the image directly\n",
    "        predicted_word_idx = np.argmax(y_pred[0])\n",
    "        predicted_word = tokenizer.index_word[predicted_word_idx]\n",
    "        \n",
    "        # Append the predicted word to the caption\n",
    "        caption.append(predicted_word)\n",
    "        \n",
    "        # Stop if <end> token is predicted\n",
    "        if predicted_word == '<end>':\n",
    "            break\n",
    "    \n",
    "    # Remove <start> and <end> tokens from the generated caption\n",
    "    caption = ' '.join(caption[1:-1])\n",
    "    return caption\n",
    "\n",
    "\n",
    "max_caption_length=9\n",
    "# Generate a caption for the new image\n",
    "generated_caption = generate_caption(model, new_image, tokenizer, max_caption_length)\n",
    "print(f\"Generated Caption: {generated_caption}\")\n"
   ]
  }
 ],
 "metadata": {
  "kernelspec": {
   "display_name": "env",
   "language": "python",
   "name": "python3"
  },
  "language_info": {
   "codemirror_mode": {
    "name": "ipython",
    "version": 3
   },
   "file_extension": ".py",
   "mimetype": "text/x-python",
   "name": "python",
   "nbconvert_exporter": "python",
   "pygments_lexer": "ipython3",
   "version": "3.11.4"
  }
 },
 "nbformat": 4,
 "nbformat_minor": 2
}
